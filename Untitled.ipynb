{
 "cells": [
  {
   "cell_type": "code",
   "execution_count": 20,
   "id": "7d90ea84",
   "metadata": {},
   "outputs": [],
   "source": [
    "import pytesseract\n",
    "import os\n",
    "import re \n",
    "import docx\n",
    "from bs4 import BeautifulSoup as bs\n",
    "import pdftotext\n",
    "import pandas as pd\n",
    "import pdfplumber\n",
    "from pdf2image import convert_from_path\n",
    "from IPython.display import Image\n"
   ]
  },
  {
   "cell_type": "code",
   "execution_count": 21,
   "id": "9b84f19c",
   "metadata": {},
   "outputs": [
    {
     "name": "stdout",
     "output_type": "stream",
     "text": [
      "['299601.pdf', '511547.pdf']\n"
     ]
    }
   ],
   "source": [
    "root_folder = 'C://work//document_processing//sample_files//'\n",
    "files = os.listdir(root_folder)\n",
    "print(files)"
   ]
  },
  {
   "cell_type": "code",
   "execution_count": 22,
   "id": "90fb2b80",
   "metadata": {},
   "outputs": [
    {
     "name": "stdout",
     "output_type": "stream",
     "text": [
      "<map object at 0x000001E634AA7B80>\n"
     ]
    }
   ],
   "source": [
    "pdf_file_paths = map(lambda name: os.path.join(root_folder, name), files)\n",
    "print(pdf_file_paths)"
   ]
  },
  {
   "cell_type": "code",
   "execution_count": 23,
   "id": "c1875b93",
   "metadata": {},
   "outputs": [
    {
     "name": "stdout",
     "output_type": "stream",
     "text": [
      "C://work//document_processing//sample_files//299601.pdf\n",
      "--------------------------\n",
      "OCR\n",
      "<class 'list'>\n",
      "{'x0': 28.798, 'y0': 29.82, 'x1': 367.198, 'y1': 582.1800000000001, 'width': 338.4, 'height': 552.36, 'name': 'Image7', 'stream': <PDFStream(7): raw=902513, {'Type': /'XObject', 'Subtype': /'Image', 'Width': 1425, 'Height': 2326, 'ColorSpace': /'DeviceRGB', 'BitsPerComponent': 8, 'Filter': /'DCTDecode', 'Interpolate': True, 'Length': 902513}>, 'srcsize': (1425, 2326), 'imagemask': None, 'bits': 8, 'colorspace': [/'DeviceRGB'], 'object_type': 'image', 'page_number': 1, 'top': 29.819999999999936, 'bottom': 582.18, 'doctop': 29.819999999999936}\n",
      "TEXT\n",
      "TEXT\n",
      "TEXT\n",
      "TEXT\n",
      "TEXT\n",
      "TEXT\n",
      "TEXT\n",
      "TEXT\n",
      "TEXT\n",
      "TEXT\n",
      "TEXT\n",
      "TEXT\n",
      "TEXT\n",
      "TEXT\n",
      "TEXT\n",
      "C://work//document_processing//sample_files//511547.pdf\n",
      "--------------------------\n",
      "OCR\n",
      "<class 'list'>\n",
      "{'x0': 0.0, 'y0': 0.0, 'x1': 612.0, 'y1': 792.0, 'width': 612.0, 'height': 792.0, 'name': 'img3', 'stream': <PDFStream(1): raw=468600, {'Type': /'XObject', 'Subtype': /'Image', 'Width': 1704, 'Height': 2200, 'BitsPerComponent': 1, 'Length': 468600, 'Decode': [1.0, 0.0], 'ColorSpace': /'DeviceGray', 'DecodeParms': {'Columns': 1704, 'Rows': 2200}}>, 'srcsize': (1704, 2200), 'imagemask': None, 'bits': 1, 'colorspace': [/'DeviceGray'], 'object_type': 'image', 'page_number': 1, 'top': 0.0, 'bottom': 792.0, 'doctop': 0.0}\n",
      "OCR\n",
      "<class 'list'>\n",
      "{'x0': 0.0, 'y0': 0.0, 'x1': 612.0, 'y1': 792.0, 'width': 612.0, 'height': 792.0, 'name': 'img6', 'stream': <PDFStream(4): raw=468600, {'Type': /'XObject', 'Subtype': /'Image', 'Width': 1704, 'Height': 2200, 'BitsPerComponent': 1, 'Length': 468600, 'Decode': [1.0, 0.0], 'ColorSpace': /'DeviceGray', 'DecodeParms': {'Columns': 1704, 'Rows': 2200}}>, 'srcsize': (1704, 2200), 'imagemask': None, 'bits': 1, 'colorspace': [/'DeviceGray'], 'object_type': 'image', 'page_number': 2, 'top': 0.0, 'bottom': 792.0, 'doctop': 792.0}\n",
      "OCR\n",
      "<class 'list'>\n",
      "{'x0': 0.0, 'y0': 0.0, 'x1': 612.0, 'y1': 792.0, 'width': 612.0, 'height': 792.0, 'name': 'img9', 'stream': <PDFStream(7): raw=468600, {'Type': /'XObject', 'Subtype': /'Image', 'Width': 1704, 'Height': 2200, 'BitsPerComponent': 1, 'Length': 468600, 'Decode': [1.0, 0.0], 'ColorSpace': /'DeviceGray', 'DecodeParms': {'Columns': 1704, 'Rows': 2200}}>, 'srcsize': (1704, 2200), 'imagemask': None, 'bits': 1, 'colorspace': [/'DeviceGray'], 'object_type': 'image', 'page_number': 3, 'top': 0.0, 'bottom': 792.0, 'doctop': 1584.0}\n",
      "OCR\n",
      "<class 'list'>\n",
      "{'x0': 0.0, 'y0': 0.0, 'x1': 612.0, 'y1': 792.0, 'width': 612.0, 'height': 792.0, 'name': 'img12', 'stream': <PDFStream(10): raw=468600, {'Type': /'XObject', 'Subtype': /'Image', 'Width': 1704, 'Height': 2200, 'BitsPerComponent': 1, 'Length': 468600, 'Decode': [1.0, 0.0], 'ColorSpace': /'DeviceGray', 'DecodeParms': {'Columns': 1704, 'Rows': 2200}}>, 'srcsize': (1704, 2200), 'imagemask': None, 'bits': 1, 'colorspace': [/'DeviceGray'], 'object_type': 'image', 'page_number': 4, 'top': 0.0, 'bottom': 792.0, 'doctop': 2376.0}\n",
      "OCR\n",
      "<class 'list'>\n",
      "{'x0': 0.0, 'y0': 0.0, 'x1': 612.0, 'y1': 792.0, 'width': 612.0, 'height': 792.0, 'name': 'img15', 'stream': <PDFStream(13): raw=468600, {'Type': /'XObject', 'Subtype': /'Image', 'Width': 1704, 'Height': 2200, 'BitsPerComponent': 1, 'Length': 468600, 'Decode': [1.0, 0.0], 'ColorSpace': /'DeviceGray', 'DecodeParms': {'Columns': 1704, 'Rows': 2200}}>, 'srcsize': (1704, 2200), 'imagemask': None, 'bits': 1, 'colorspace': [/'DeviceGray'], 'object_type': 'image', 'page_number': 5, 'top': 0.0, 'bottom': 792.0, 'doctop': 3168.0}\n",
      "OCR\n",
      "<class 'list'>\n",
      "{'x0': 0.0, 'y0': 0.0, 'x1': 612.0, 'y1': 792.0, 'width': 612.0, 'height': 792.0, 'name': 'img18', 'stream': <PDFStream(16): raw=468600, {'Type': /'XObject', 'Subtype': /'Image', 'Width': 1704, 'Height': 2200, 'BitsPerComponent': 1, 'Length': 468600, 'Decode': [1.0, 0.0], 'ColorSpace': /'DeviceGray', 'DecodeParms': {'Columns': 1704, 'Rows': 2200}}>, 'srcsize': (1704, 2200), 'imagemask': None, 'bits': 1, 'colorspace': [/'DeviceGray'], 'object_type': 'image', 'page_number': 6, 'top': 0.0, 'bottom': 792.0, 'doctop': 3960.0}\n",
      "OCR\n",
      "<class 'list'>\n",
      "{'x0': 0.0, 'y0': 0.0, 'x1': 612.0, 'y1': 792.0, 'width': 612.0, 'height': 792.0, 'name': 'img21', 'stream': <PDFStream(19): raw=468600, {'Type': /'XObject', 'Subtype': /'Image', 'Width': 1704, 'Height': 2200, 'BitsPerComponent': 1, 'Length': 468600, 'Decode': [1.0, 0.0], 'ColorSpace': /'DeviceGray', 'DecodeParms': {'Columns': 1704, 'Rows': 2200}}>, 'srcsize': (1704, 2200), 'imagemask': None, 'bits': 1, 'colorspace': [/'DeviceGray'], 'object_type': 'image', 'page_number': 7, 'top': 0.0, 'bottom': 792.0, 'doctop': 4752.0}\n"
     ]
    }
   ],
   "source": [
    "for pdf_file in list(pdf_file_paths):\n",
    "    print(pdf_file)\n",
    "    with pdfplumber.open(pdf_file) as pdf:\n",
    "        icount = 0\n",
    "        if pdf is not None and len(pdf.pages) > 0:\n",
    "            print(\"--------------------------\")\n",
    "            NumPages = len(pdf.pages)\n",
    "            FileSize = os.path.getsize(pdf_file)\n",
    "            for page in pdf.pages:\n",
    "                text = page.extract_text()\n",
    "                if len(text) > 10:\n",
    "                    print(\"TEXT\")\n",
    "                    \n",
    "                else:\n",
    "                    print(\"OCR\")\n",
    "                    img = page.images\n",
    "                    print(type(img))\n",
    "                    print(img[0])\n",
    "                \n"
   ]
  },
  {
   "cell_type": "code",
   "execution_count": null,
   "id": "d4963c4c",
   "metadata": {},
   "outputs": [],
   "source": []
  }
 ],
 "metadata": {
  "kernelspec": {
   "display_name": "Python 3 (ipykernel)",
   "language": "python",
   "name": "python3"
  },
  "language_info": {
   "codemirror_mode": {
    "name": "ipython",
    "version": 3
   },
   "file_extension": ".py",
   "mimetype": "text/x-python",
   "name": "python",
   "nbconvert_exporter": "python",
   "pygments_lexer": "ipython3",
   "version": "3.9.13"
  }
 },
 "nbformat": 4,
 "nbformat_minor": 5
}
